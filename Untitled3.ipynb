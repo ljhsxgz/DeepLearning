{
 "cells": [
  {
   "cell_type": "code",
   "execution_count": 127,
   "metadata": {},
   "outputs": [],
   "source": [
    "from random import random"
   ]
  },
  {
   "cell_type": "code",
   "execution_count": 128,
   "metadata": {},
   "outputs": [],
   "source": [
    "def gradient_decent(fn, partial_div,n_variables,lr =0.1,max_itr = 10000,min_error = 1e-5):\n",
    "    theta = [random() for _ in range(n_variables)]\n",
    "    y_cur = fn(*theta)\n",
    "    for j in range(max_itr):\n",
    "        gradient=[f(*theta) for f in partial_div]  \n",
    "        for i in range(n_variables):\n",
    "            theta[i] -= gradient[i]*lr\n",
    "        y_cur,y_pre = fn(*theta),y_cur\n",
    "        if abs(y_cur-y_pre)<min_error:\n",
    "            break            \n",
    "    return theta,y_cur;\n"
   ]
  },
  {
   "cell_type": "code",
   "execution_count": 129,
   "metadata": {},
   "outputs": [],
   "source": [
    "def f(x,y):\n",
    "    return (x+y-3)**2+(x+2*y-5)**2+2\n",
    "def df_dx(x,y):\n",
    "    return 2*(x+y-3)+2*(x+2*y-5)\n",
    "def df_dy(x,y):\n",
    "    return 2*(x+y-3)+4*(x+2*y-5)\n",
    "\n"
   ]
  },
  {
   "cell_type": "code",
   "execution_count": 130,
   "metadata": {},
   "outputs": [],
   "source": [
    "def main():\n",
    "    n_variables = 2\n",
    "    theta,f_theta=gradient_decent(f,[df_dx,df_dy],n_variables)\n",
    "    theta = [round(x,3) for x in theta]\n",
    "    print(\"theta:%s, y_cur:%.2f\"%(theta,f_theta))"
   ]
  },
  {
   "cell_type": "code",
   "execution_count": 131,
   "metadata": {},
   "outputs": [
    {
     "name": "stdout",
     "output_type": "stream",
     "text": [
      "theta:[1.028, 1.983], y_cur:2.00\n"
     ]
    }
   ],
   "source": [
    "main()"
   ]
  },
  {
   "cell_type": "code",
   "execution_count": null,
   "metadata": {},
   "outputs": [],
   "source": []
  },
  {
   "cell_type": "code",
   "execution_count": null,
   "metadata": {},
   "outputs": [],
   "source": []
  }
 ],
 "metadata": {
  "kernelspec": {
   "display_name": "Python 3",
   "language": "python",
   "name": "python3"
  },
  "language_info": {
   "codemirror_mode": {
    "name": "ipython",
    "version": 3
   },
   "file_extension": ".py",
   "mimetype": "text/x-python",
   "name": "python",
   "nbconvert_exporter": "python",
   "pygments_lexer": "ipython3",
   "version": "3.6.7"
  }
 },
 "nbformat": 4,
 "nbformat_minor": 2
}
