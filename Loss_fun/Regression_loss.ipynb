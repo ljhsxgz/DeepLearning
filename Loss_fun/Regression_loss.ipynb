{
 "cells": [
  {
   "cell_type": "code",
   "execution_count": 30,
   "metadata": {},
   "outputs": [],
   "source": [
    "import numpy as np\n",
    "\n",
    "y_hat = np.array([2.3,5.7,1.4])\n",
    "y_true = np.array([2.5,3.5,2.3])"
   ]
  },
  {
   "cell_type": "code",
   "execution_count": 51,
   "metadata": {},
   "outputs": [],
   "source": [
    "def RMSE(predictions, true):\n",
    "    differences =  true - predictions\n",
    "    differences_squared = differences**2\n",
    "    mean_of_differences_squared = differences_squared.mean()\n",
    "    mean_sqrt_error = np.sqrt(mean_of_differences_squared)\n",
    "    return mean_sqrt_error\n",
    "def MAE(predictions, true):\n",
    "    differences =  true - predictions\n",
    "    differences_abs = np.abs(differences)\n",
    "    mean_abs_error = differences_abs.mean()\n",
    "    return mean_abs_error\n",
    "def MBE(predictions, true):\n",
    "    differences =  true - predictions\n",
    "    mean_bias_error = differences.mean()\n",
    "    return mean_bias_error"
   ]
  },
  {
   "cell_type": "code",
   "execution_count": 52,
   "metadata": {},
   "outputs": [],
   "source": [
    "def main():\n",
    "    print(\"RMSE: \"+str(RMSE(y_hat, y_true)))\n",
    "    print(\"MAE: \"+str(mae(y_hat, y_true)))\n",
    "    print(\"MBE: \"+str(mbe(y_hat, y_true)))"
   ]
  },
  {
   "cell_type": "code",
   "execution_count": 53,
   "metadata": {},
   "outputs": [
    {
     "name": "stdout",
     "output_type": "stream",
     "text": [
      "RMSE: 1.3771952173409066\n",
      "MAE: 1.1\n",
      "MBE: -0.3666666666666667\n"
     ]
    }
   ],
   "source": [
    "main()"
   ]
  },
  {
   "cell_type": "code",
   "execution_count": null,
   "metadata": {},
   "outputs": [],
   "source": []
  }
 ],
 "metadata": {
  "kernelspec": {
   "display_name": "Python 3",
   "language": "python",
   "name": "python3"
  },
  "language_info": {
   "codemirror_mode": {
    "name": "ipython",
    "version": 3
   },
   "file_extension": ".py",
   "mimetype": "text/x-python",
   "name": "python",
   "nbconvert_exporter": "python",
   "pygments_lexer": "ipython3",
   "version": "3.6.7"
  }
 },
 "nbformat": 4,
 "nbformat_minor": 2
}
